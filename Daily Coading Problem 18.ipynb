{
 "cells": [
  {
   "cell_type": "markdown",
   "id": "ae4fee3b",
   "metadata": {},
   "source": [
    "# Daily Coading Problem 18"
   ]
  },
  {
   "cell_type": "raw",
   "id": "94ac9428",
   "metadata": {},
   "source": [
    "This problem was asked by Google.\n",
    "\n",
    "Given an array of integers and a number k, where 1 <= k <= length of the array, compute the maximum values of each subarray of length k.\n",
    "\n",
    "For example, given array = [10, 5, 2, 7, 8, 7] and k = 3, we should get: [10, 7, 8, 8], since:\n",
    "\n",
    "10 = max(10, 5, 2)\n",
    "7 = max(5, 2, 7)\n",
    "8 = max(2, 7, 8)\n",
    "8 = max(7, 8, 7)\n",
    "Do this in O(n) time and O(k) space. You can modify the input array in-place and you do not need to store the results. You can simply print them out as you compute them."
   ]
  },
  {
   "cell_type": "markdown",
   "id": "a06896ee",
   "metadata": {},
   "source": [
    "# Solution\n",
    "\n",
    "Even though the question states O(n), in an interview it's always useful to first write out a brute force solution, which may provide us with some insight on some deeper structure in the problem.\n",
    "\n",
    "So let's first write out a naive solution: we can simply take each subarray of k length and compute their maxes."
   ]
  },
  {
   "cell_type": "code",
   "execution_count": 14,
   "id": "40b67f9f",
   "metadata": {},
   "outputs": [
    {
     "name": "stdout",
     "output_type": "stream",
     "text": [
      "3\n",
      "4\n",
      "5\n",
      "6\n",
      "None\n"
     ]
    }
   ],
   "source": [
    "def max_of_subarrays(lst, k):\n",
    "    for i in range(len(lst) - k + 1):\n",
    "        print(max(lst[i:i + k]))\n",
    "        \n",
    "#print(max_of_subarrays([10,5,2,7,8,7],3))\n",
    "print(max_of_subarrays([1,2,3,4,5,6],3))"
   ]
  },
  {
   "cell_type": "markdown",
   "id": "2eaa2c83",
   "metadata": {},
   "source": [
    "This takes O(n * k) time, which doesn't get us quite to where we want. How can we make this faster?\n",
    "\n",
    "One possible idea is this: we could use a max-heap of size k and add the first k elements to the heap initially, and then pop off the max and add the next element for the rest of the array. This is better, but adding and extracting from the heap will take O(log k), so this algorithm will take O(n * log k), which is still not enough. How can we do better?\n",
    "\n",
    "Notice that, for example, the input [1, 2, 3, 4, 5, 6, 7, 8, 9] and k = 3, after evaluating the max of first range, since 3 is at the end, we only need to check whether 4 is greater than 3. If it is, then we can print 4 immediately, and if it isn't, we can stick with 3.\n",
    "\n",
    "On the other hand, for the input [9, 8, 7, 6, 5, 4, 3, 2, 1] and k = 3, after evaluating the max of the first range, we can't do the same thing, since we can't use 9 again. We have to look at 8 instead, and then once we move on to the next range, we have to look at 7.\n",
    "\n",
    "These two data points suggest an idea: we can keep a double-ended queue with max size k and only keep what we need to evaluate in it. That is, if we see [1, 3, 5], then we only need to keep [5], since we know that 1 and 3 cannot possibly be the maxes.\n",
    "\n",
    "So what we can do is maintain an ordered list of indices, where we only keep the elements we care about, that is, we will maintain the loop invariant that our queue is always ordered so that we only keep the indices we care about (i.e, there are no elements that are greater after, since we would just pick the greater element as the max instead).\n",
    "\n",
    "It will help to go over an example. Consider our test input: [10, 5, 2, 7, 8, 7] and k = 3. Our queue at each step would look like this (recall that these are indices):\n",
    "\n",
    "# Preprocessing\n",
    "\n",
    "After processing 10: [0] After processing 5: [0, 1] # 5 is smaller than 10, and 10 is still valid until we hit the 3rd index After processing 2: [0, 1, 2] # 2 is smaller than 5, and 10 is still valid\n",
    "\n",
    "# Main Loop\n",
    "Print value of first element in our queue: 10\n",
    "\n",
    "After processing 7: [4] # 10 is no longer valid (we can tell since the current index - 0 > k), so we dequeue from the front. 7 is bigger than 5 and 2, so we get rid of them from the back and replace it with the 7\n",
    "\n",
    "Print value of first element in our queue: 7\n",
    "\n",
    "After processing 8: [5] # 8 is bigger than 7, so no point in keeping 7 around. We get rid of it from the back and replace it with the 8\n",
    "\n",
    "Print value of first element in our queue: 8\n",
    "\n",
    "After processing 7: [5, 4] # 7 is smaller than 8, so we enqueue it from the back\n",
    "\n",
    "Print value of first element in our queue: 8\n",
    "\n",
    "# Code"
   ]
  },
  {
   "cell_type": "code",
   "execution_count": 12,
   "id": "ac5a4139",
   "metadata": {},
   "outputs": [
    {
     "name": "stdout",
     "output_type": "stream",
     "text": [
      "10\n",
      "7\n",
      "8\n",
      "8\n",
      "None\n"
     ]
    }
   ],
   "source": [
    "from collections import deque\n",
    "\n",
    "def max_of_subarrays(lst, k):\n",
    "    q = deque()\n",
    "    for i in range(k):\n",
    "        while q and lst[i] >= lst[q[-1]]:\n",
    "            q.pop()\n",
    "        q.append(i)\n",
    "\n",
    "    # Loop invariant: q is a list of indices where their corresponding values are in descending order.\n",
    "    for i in range(k, len(lst)):\n",
    "        print(lst[q[0]])\n",
    "        while q and q[0] <= i - k:\n",
    "            q.popleft()\n",
    "        while q and lst[i] >= lst[q[-1]]:\n",
    "            q.pop()\n",
    "        q.append(i)\n",
    "    print(lst[q[0]])\n",
    "\n",
    "print(max_of_subarrays([10,5,2,7,8,7],3))    "
   ]
  },
  {
   "cell_type": "code",
   "execution_count": null,
   "id": "23b3be66",
   "metadata": {},
   "outputs": [],
   "source": []
  }
 ],
 "metadata": {
  "kernelspec": {
   "display_name": "Python 3 (ipykernel)",
   "language": "python",
   "name": "python3"
  },
  "language_info": {
   "codemirror_mode": {
    "name": "ipython",
    "version": 3
   },
   "file_extension": ".py",
   "mimetype": "text/x-python",
   "name": "python",
   "nbconvert_exporter": "python",
   "pygments_lexer": "ipython3",
   "version": "3.8.10"
  }
 },
 "nbformat": 4,
 "nbformat_minor": 5
}
